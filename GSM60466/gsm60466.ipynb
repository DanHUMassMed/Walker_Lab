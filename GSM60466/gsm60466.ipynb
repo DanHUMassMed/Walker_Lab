{
 "cells": [
  {
   "cell_type": "code",
   "execution_count": 6,
   "metadata": {},
   "outputs": [],
   "source": [
    "import pandas as pd\n",
    "import os"
   ]
  },
  {
   "cell_type": "code",
   "execution_count": 2,
   "metadata": {},
   "outputs": [],
   "source": [
    "input_dir = \"./readcount\"\n",
    "files_dict = {}\n",
    "files_dict['pq_1'] = f\"{input_dir}/GSM6046616_Wild_Type-_0_1mM_PQ_1_readcount.txt\"\n",
    "files_dict['pq_2'] = f\"{input_dir}/GSM6046617_Wild_Type-_0_1mM_PQ_2_readcount.txt\"\n",
    "files_dict['pq_3'] = f\"{input_dir}/GSM6046618_Wild_Type-_0_1mM_PQ_3_readcount.txt\"\n",
    "files_dict['wt_1'] = f\"{input_dir}/GSM6046619_Wild_Type_Control_1_readcount.txt\"\n",
    "files_dict['wt_2'] = f\"{input_dir}/GSM6046620_Wild_Type_Control_2_readcount.txt\"\n",
    "files_dict['wt_3'] = f\"{input_dir}/GSM6046621_Wild_Type_Control_3_readcount.txt\"\n"
   ]
  },
  {
   "cell_type": "code",
   "execution_count": 4,
   "metadata": {},
   "outputs": [
    {
     "data": {
      "text/plain": [
       "46739"
      ]
     },
     "execution_count": 4,
     "metadata": {},
     "output_type": "execute_result"
    }
   ],
   "source": [
    "def read_count_data(name, file_name):\n",
    "    column_headers = ['gene_id', 'counts_unstranded', 'counts_1st_strand', 'counts_2nd_strand']\n",
    "    df = pd.read_csv(f\"{file_name}\", sep='\\t', skiprows=4, names=column_headers, index_col='gene_id')\n",
    "    df = df.drop(columns=['counts_1st_strand', 'counts_2nd_strand'])\n",
    "    df = df.rename(columns={'counts_unstranded': name})\n",
    "    return df\n",
    "\n",
    "keys_list = list(files_dict.keys())\n",
    "result_df = read_count_data(keys_list[0], files_dict[keys_list[0]])\n",
    "for key in keys_list[1:]:\n",
    "    df = read_count_data(key, files_dict[key])\n",
    "    result_df = result_df.join(df, how='inner')\n",
    "    \n",
    "len(result_df)"
   ]
  },
  {
   "cell_type": "code",
   "execution_count": 7,
   "metadata": {},
   "outputs": [],
   "source": [
    "result_df.head()\n",
    "directory = \"./results/rsem_summary\"\n",
    "# Create the directory and its parent directories if they do not exist\n",
    "os.makedirs(directory, exist_ok=True)\n",
    "result_df.to_csv(f\"{directory}/genes_expression_expected_count.tsv\", sep='\\t')"
   ]
  },
  {
   "cell_type": "code",
   "execution_count": null,
   "metadata": {},
   "outputs": [],
   "source": []
  }
 ],
 "metadata": {
  "kernelspec": {
   "display_name": "dan-dev-sc",
   "language": "python",
   "name": "python3"
  },
  "language_info": {
   "codemirror_mode": {
    "name": "ipython",
    "version": 3
   },
   "file_extension": ".py",
   "mimetype": "text/x-python",
   "name": "python",
   "nbconvert_exporter": "python",
   "pygments_lexer": "ipython3",
   "version": "3.9.16"
  }
 },
 "nbformat": 4,
 "nbformat_minor": 2
}
